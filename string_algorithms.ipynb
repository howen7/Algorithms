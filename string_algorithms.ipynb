{
 "cells": [
  {
   "cell_type": "code",
   "execution_count": 20,
   "metadata": {},
   "outputs": [],
   "source": [
    "# Remove duplicates\n",
    "def remove_duplicates(sentence):\n",
    " return \" \".join(sorted(set(sentence.split())))"
   ]
  },
  {
   "cell_type": "code",
   "execution_count": 22,
   "metadata": {},
   "outputs": [
    {
     "data": {
      "text/plain": [
       "'hahah no'"
      ]
     },
     "execution_count": 22,
     "metadata": {},
     "output_type": "execute_result"
    }
   ],
   "source": [
    "remove_duplicates(\"hahah no hahah\")"
   ]
  },
  {
   "cell_type": "markdown",
   "metadata": {},
   "source": [
    "___________________________________________________"
   ]
  },
  {
   "cell_type": "code",
   "execution_count": 2,
   "metadata": {},
   "outputs": [],
   "source": [
    "def reverse_letters(input_str: str) -> str:\n",
    "    \"\"\"\n",
    "    Reverses letters in a given string without adjusting the position of the words\n",
    "    >>> reverse_letters('The cat in the hat')\n",
    "    'ehT tac ni eht tah'\n",
    "    >>> reverse_letters('The quick brown fox jumped over the lazy dog.')\n",
    "    'ehT kciuq nworb xof depmuj revo eht yzal .god'\n",
    "    >>> reverse_letters('Is this true?')\n",
    "    'sI siht ?eurt'\n",
    "    >>> reverse_letters(\"I   love       Python\")\n",
    "    'I evol nohtyP'\n",
    "    \"\"\"\n",
    "    return \" \".join([word[::-1] for word in input_str.split()])\n",
    "\n",
    "\n",
    "if __name__ == \"__main__\":\n",
    "    import doctest\n",
    "\n",
    "    doctest.testmod()\n"
   ]
  },
  {
   "cell_type": "code",
   "execution_count": null,
   "metadata": {},
   "outputs": [],
   "source": []
  }
 ],
 "metadata": {
  "kernelspec": {
   "display_name": "Python 3",
   "language": "python",
   "name": "python3"
  },
  "language_info": {
   "codemirror_mode": {
    "name": "ipython",
    "version": 3
   },
   "file_extension": ".py",
   "mimetype": "text/x-python",
   "name": "python",
   "nbconvert_exporter": "python",
   "pygments_lexer": "ipython3",
   "version": "3.8.3"
  }
 },
 "nbformat": 4,
 "nbformat_minor": 4
}
